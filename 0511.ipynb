{
  "nbformat": 4,
  "nbformat_minor": 0,
  "metadata": {
    "colab": {
      "name": "0511.ipynb",
      "provenance": [],
      "collapsed_sections": [],
      "authorship_tag": "ABX9TyOlxqMakInzP246OCSzI/Kk",
      "include_colab_link": true
    },
    "kernelspec": {
      "name": "python3",
      "display_name": "Python 3"
    },
    "language_info": {
      "name": "python"
    }
  },
  "cells": [
    {
      "cell_type": "markdown",
      "metadata": {
        "id": "view-in-github",
        "colab_type": "text"
      },
      "source": [
        "<a href=\"https://colab.research.google.com/github/chenyunju/Introduction-to-Computers/blob/main/0511.ipynb\" target=\"_parent\"><img src=\"https://colab.research.google.com/assets/colab-badge.svg\" alt=\"Open In Colab\"/></a>"
      ]
    },
    {
      "cell_type": "code",
      "execution_count": 1,
      "metadata": {
        "colab": {
          "base_uri": "https://localhost:8080/"
        },
        "id": "MweYBF5LhIIW",
        "outputId": "b9673756-f433-4ec2-c9e5-7c16c8b3e02f"
      },
      "outputs": [
        {
          "output_type": "stream",
          "name": "stdout",
          "text": [
            "test\n"
          ]
        }
      ],
      "source": [
        "print(\"test\")"
      ]
    },
    {
      "cell_type": "code",
      "source": [
        "temp = float(input(\"請輸入你的體溫\"))\n",
        "if temp >= 37.5:\n",
        "    print(\"體溫過高！\")\n",
        "elif temp >= 37 and temp < 37.4:\n",
        "    print(\"體溫略高！\")\n",
        "elif temp >= 34 and temp < 36.9:\n",
        "    print(\"體溫正常!\")\n",
        "else :\n",
        "    print(\"體溫異常，請重新量測！\")"
      ],
      "metadata": {
        "colab": {
          "base_uri": "https://localhost:8080/"
        },
        "id": "BQx4--RwiP5S",
        "outputId": "dfe02f81-0c19-4a52-b32d-57757f9a6050"
      },
      "execution_count": 3,
      "outputs": [
        {
          "output_type": "stream",
          "name": "stdout",
          "text": [
            "請輸入你的體溫36.7\n",
            "體溫正常!\n"
          ]
        }
      ]
    },
    {
      "cell_type": "code",
      "source": [
        "money = int(input(\"請輸入購物金額：\"))\n",
        "if (money >= 10000):\n",
        "    if(money >= 100000):\n",
        "      print(\"八折\",money * 0.8, end = \"元\\n\")\n",
        "    elif(money >= 50000):\n",
        "      print(\"八五折\",money * 0.85, end = \"元\\n\")\n",
        "    elif(money >= 30000):\n",
        "      print(\"九折\",money * 0.9, end = \"元\\n\")\n",
        "    else:\n",
        "      print(\"九五折\",money * 0.95, end = \"元\\n\")\n",
        "else:\n",
        "    print(\"沒打折\",money, end = \"元\\n\")"
      ],
      "metadata": {
        "colab": {
          "base_uri": "https://localhost:8080/"
        },
        "id": "r-wrq-armZtC",
        "outputId": "6acf8eb5-8e12-4bff-84d8-e877ec7310a6"
      },
      "execution_count": 6,
      "outputs": [
        {
          "output_type": "stream",
          "name": "stdout",
          "text": [
            "請輸入購物金額：100000\n",
            "八折 80000.0元\n"
          ]
        }
      ]
    },
    {
      "cell_type": "code",
      "source": [
        "score = int(input(\"請輸入成績\"))\n",
        "if score >= 90:\n",
        "    print(\"A\")\n",
        "elif score >=80 and score < 90:\n",
        "    print(\"B\")\n",
        "elif score >=70 and score < 80:\n",
        "    print(\"C\")\n",
        "elif score >=60 and score < 70:\n",
        "    print(\"D\")\n",
        "else:\n",
        "    print(\"E\")"
      ],
      "metadata": {
        "colab": {
          "base_uri": "https://localhost:8080/"
        },
        "id": "mMi2rPcCr9iJ",
        "outputId": "2c7fd9c5-289d-4399-ed5f-af5d71c24b4a"
      },
      "execution_count": 14,
      "outputs": [
        {
          "output_type": "stream",
          "name": "stdout",
          "text": [
            "請輸入成績90\n",
            "A\n"
          ]
        }
      ]
    },
    {
      "cell_type": "code",
      "source": [
        "month = int(input(\"請輸入月份：\"))\n",
        "if (month <= 12):\n",
        "    if (month <= 5 and month >= 3) :\n",
        "      print(month,'月是春天！')\n",
        "    elif(month <= 8 and month >= 6):\n",
        "      print(month,'月是夏天！')\n",
        "    elif(month <= 11 and month >= 9):\n",
        "      print(month,'月是秋天！')\n",
        "    else:\n",
        "      print(month,'月是冬天！')\n",
        "else:\n",
        "    print(\"月份不在範圍內！\")"
      ],
      "metadata": {
        "colab": {
          "base_uri": "https://localhost:8080/"
        },
        "id": "lRem4n2yt5qY",
        "outputId": "a2acecda-1635-4e21-f176-5ff55cf00fb7"
      },
      "execution_count": 19,
      "outputs": [
        {
          "output_type": "stream",
          "name": "stdout",
          "text": [
            "請輸入月份：10\n",
            "10 月是秋天！\n"
          ]
        }
      ]
    },
    {
      "cell_type": "code",
      "source": [
        "income = int(input(\"請輸入今年收入淨額：\"))\n",
        "if (income >= 300000 and income < 600000):\n",
        "    print(\"付稅金額：\",income * 0.06, end = \"元\\n\")\n",
        "elif (income >= 600000 and income < 1000000):\n",
        "    print(\"付稅金額：\",income * 0.13, end = \"元\\n\")\n",
        "elif (income >= 1000000 and income < 2000000):\n",
        "    print(\"付稅金額：\",income * 0.21, end = \"元\\n\")\n",
        "elif (income >= 2000000):\n",
        "    print(\"付稅金額：\",income * 0.3, end = \"元\\n\")\n",
        "else:\n",
        "    print(\"付稅金額：0元\")"
      ],
      "metadata": {
        "colab": {
          "base_uri": "https://localhost:8080/"
        },
        "id": "wutpY2Sw8pcI",
        "outputId": "a5458003-d202-444c-870a-05b41695a02c"
      },
      "execution_count": 35,
      "outputs": [
        {
          "output_type": "stream",
          "name": "stdout",
          "text": [
            "請輸入今年收入淨額：2000000\n",
            "付稅金額： 600000.0元\n"
          ]
        }
      ]
    }
  ]
}