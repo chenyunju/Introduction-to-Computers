{
  "nbformat": 4,
  "nbformat_minor": 0,
  "metadata": {
    "colab": {
      "name": "0323.ipynb",
      "provenance": [],
      "authorship_tag": "ABX9TyP+mZux0i4L8ya8Vnq9KSlY",
      "include_colab_link": true
    },
    "kernelspec": {
      "name": "python3",
      "display_name": "Python 3"
    },
    "language_info": {
      "name": "python"
    }
  },
  "cells": [
    {
      "cell_type": "markdown",
      "metadata": {
        "id": "view-in-github",
        "colab_type": "text"
      },
      "source": [
        "<a href=\"https://colab.research.google.com/github/chenyunju/Introduction-to-Computers/blob/main/0323.ipynb\" target=\"_parent\"><img src=\"https://colab.research.google.com/assets/colab-badge.svg\" alt=\"Open In Colab\"/></a>"
      ]
    },
    {
      "cell_type": "code",
      "execution_count": 1,
      "metadata": {
        "colab": {
          "base_uri": "https://localhost:8080/"
        },
        "id": "lkKnGssyIWEB",
        "outputId": "ed2207f9-9cff-4f55-e1ea-3179f38ed510"
      },
      "outputs": [
        {
          "output_type": "execute_result",
          "data": {
            "text/plain": [
              "15"
            ]
          },
          "metadata": {},
          "execution_count": 1
        }
      ],
      "source": [
        "12+3"
      ]
    },
    {
      "cell_type": "code",
      "source": [
        "12-3"
      ],
      "metadata": {
        "colab": {
          "base_uri": "https://localhost:8080/"
        },
        "id": "NbMlAi2qJp9a",
        "outputId": "b403a55f-e90f-4e6f-d2f1-c5b1509eaec0"
      },
      "execution_count": 2,
      "outputs": [
        {
          "output_type": "execute_result",
          "data": {
            "text/plain": [
              "9"
            ]
          },
          "metadata": {},
          "execution_count": 2
        }
      ]
    },
    {
      "cell_type": "code",
      "source": [
        "12*3"
      ],
      "metadata": {
        "colab": {
          "base_uri": "https://localhost:8080/"
        },
        "id": "QTn5nuV-Jspn",
        "outputId": "807266e9-920a-47a4-ccc7-07570e8f743a"
      },
      "execution_count": 3,
      "outputs": [
        {
          "output_type": "execute_result",
          "data": {
            "text/plain": [
              "36"
            ]
          },
          "metadata": {},
          "execution_count": 3
        }
      ]
    },
    {
      "cell_type": "code",
      "source": [
        "32/5"
      ],
      "metadata": {
        "colab": {
          "base_uri": "https://localhost:8080/"
        },
        "id": "Dyt5e0GGJxzi",
        "outputId": "466f3531-6027-4fa0-b061-d7d71965a082"
      },
      "execution_count": 5,
      "outputs": [
        {
          "output_type": "execute_result",
          "data": {
            "text/plain": [
              "6.4"
            ]
          },
          "metadata": {},
          "execution_count": 5
        }
      ]
    },
    {
      "cell_type": "code",
      "source": [
        "32%5"
      ],
      "metadata": {
        "colab": {
          "base_uri": "https://localhost:8080/"
        },
        "id": "ChFm0oFWKGce",
        "outputId": "c4003de1-80db-4c68-ee9b-7a850b3a5771"
      },
      "execution_count": 6,
      "outputs": [
        {
          "output_type": "execute_result",
          "data": {
            "text/plain": [
              "2"
            ]
          },
          "metadata": {},
          "execution_count": 6
        }
      ]
    },
    {
      "cell_type": "code",
      "source": [
        "32//5"
      ],
      "metadata": {
        "colab": {
          "base_uri": "https://localhost:8080/"
        },
        "id": "zALZ6Y22KI6l",
        "outputId": "283504fc-02f7-404a-be1b-52b807807b1a"
      },
      "execution_count": 7,
      "outputs": [
        {
          "output_type": "execute_result",
          "data": {
            "text/plain": [
              "6"
            ]
          },
          "metadata": {},
          "execution_count": 7
        }
      ]
    },
    {
      "cell_type": "code",
      "source": [
        "7**2"
      ],
      "metadata": {
        "colab": {
          "base_uri": "https://localhost:8080/"
        },
        "id": "3VGl5M6lKLa0",
        "outputId": "011365e6-05bf-4336-905f-63d628542ccc"
      },
      "execution_count": 8,
      "outputs": [
        {
          "output_type": "execute_result",
          "data": {
            "text/plain": [
              "49"
            ]
          },
          "metadata": {},
          "execution_count": 8
        }
      ]
    },
    {
      "cell_type": "code",
      "source": [
        "7**4"
      ],
      "metadata": {
        "colab": {
          "base_uri": "https://localhost:8080/"
        },
        "id": "0sg6qimTKUof",
        "outputId": "e0fa21a3-78e1-41a8-9035-9e25e8eac126"
      },
      "execution_count": 9,
      "outputs": [
        {
          "output_type": "execute_result",
          "data": {
            "text/plain": [
              "2401"
            ]
          },
          "metadata": {},
          "execution_count": 9
        }
      ]
    },
    {
      "cell_type": "code",
      "source": [
        "4+8"
      ],
      "metadata": {
        "colab": {
          "base_uri": "https://localhost:8080/"
        },
        "id": "_ZO7a4TIKY98",
        "outputId": "16356bb4-9441-46dc-84ea-af03cc42a7dd"
      },
      "execution_count": 10,
      "outputs": [
        {
          "output_type": "execute_result",
          "data": {
            "text/plain": [
              "12"
            ]
          },
          "metadata": {},
          "execution_count": 10
        }
      ]
    },
    {
      "cell_type": "code",
      "source": [
        "4-8"
      ],
      "metadata": {
        "colab": {
          "base_uri": "https://localhost:8080/"
        },
        "id": "gs0JyfotKcq5",
        "outputId": "4185fd51-1be9-4ea1-f1a3-479cdb024f41"
      },
      "execution_count": 11,
      "outputs": [
        {
          "output_type": "execute_result",
          "data": {
            "text/plain": [
              "-4"
            ]
          },
          "metadata": {},
          "execution_count": 11
        }
      ]
    },
    {
      "cell_type": "code",
      "source": [
        "4*8"
      ],
      "metadata": {
        "colab": {
          "base_uri": "https://localhost:8080/"
        },
        "id": "Q_51DXCCKgBY",
        "outputId": "22748768-9765-46ab-d9fd-c590d6ae5a9e"
      },
      "execution_count": 12,
      "outputs": [
        {
          "output_type": "execute_result",
          "data": {
            "text/plain": [
              "32"
            ]
          },
          "metadata": {},
          "execution_count": 12
        }
      ]
    },
    {
      "cell_type": "code",
      "source": [
        "64/7"
      ],
      "metadata": {
        "colab": {
          "base_uri": "https://localhost:8080/"
        },
        "id": "lRHSX6WeKj2P",
        "outputId": "d5b137dd-472f-4017-9d4e-054f125dae6c"
      },
      "execution_count": 13,
      "outputs": [
        {
          "output_type": "execute_result",
          "data": {
            "text/plain": [
              "9.142857142857142"
            ]
          },
          "metadata": {},
          "execution_count": 13
        }
      ]
    },
    {
      "cell_type": "code",
      "source": [
        "64%7"
      ],
      "metadata": {
        "colab": {
          "base_uri": "https://localhost:8080/"
        },
        "id": "wNZKnYxPKupE",
        "outputId": "76ef2079-f4d9-45e7-b9ac-fd2454420cc2"
      },
      "execution_count": 14,
      "outputs": [
        {
          "output_type": "execute_result",
          "data": {
            "text/plain": [
              "1"
            ]
          },
          "metadata": {},
          "execution_count": 14
        }
      ]
    },
    {
      "cell_type": "code",
      "source": [
        "64//7"
      ],
      "metadata": {
        "colab": {
          "base_uri": "https://localhost:8080/"
        },
        "id": "qUBgVAHZKzVx",
        "outputId": "028eb32c-2e3e-43c6-d64e-129ad68851dc"
      },
      "execution_count": 15,
      "outputs": [
        {
          "output_type": "execute_result",
          "data": {
            "text/plain": [
              "9"
            ]
          },
          "metadata": {},
          "execution_count": 15
        }
      ]
    },
    {
      "cell_type": "code",
      "source": [
        "5**3"
      ],
      "metadata": {
        "colab": {
          "base_uri": "https://localhost:8080/"
        },
        "id": "d8VZegr0K5sx",
        "outputId": "81a93952-d317-4bcf-adb3-3dabba9397e1"
      },
      "execution_count": 16,
      "outputs": [
        {
          "output_type": "execute_result",
          "data": {
            "text/plain": [
              "125"
            ]
          },
          "metadata": {},
          "execution_count": 16
        }
      ]
    },
    {
      "cell_type": "code",
      "source": [
        "上底 = int(input('請輸入梯形上底長度：'))\n",
        "下底 = int(input('請輸入梯形下底長度：'))\n",
        "高 = int(input('請輸入梯形的高度：'))\n",
        "面積 = (上底+下底)*高/2\n",
        "print('梯形上底長度為:',上底,'梯形下底長度為:',下底,'梯形高度為：',高,'梯形面積為:',面積)"
      ],
      "metadata": {
        "colab": {
          "base_uri": "https://localhost:8080/"
        },
        "id": "jGZLu1ObQ9jL",
        "outputId": "51f4fb80-fb94-4be1-a0ca-e5ede3ad3997"
      },
      "execution_count": 51,
      "outputs": [
        {
          "output_type": "stream",
          "name": "stdout",
          "text": [
            "請輸入梯形上底長度：3\n",
            "請輸入梯形下底長度：4\n",
            "請輸入梯形的高度：3\n",
            "梯形上底長度為: 3 梯形下底長度為: 4 梯形高度為： 3 梯形面積為: 10.5\n"
          ]
        }
      ]
    },
    {
      "cell_type": "code",
      "source": [
        "print('梯形上底長度為：%d,梯形下底長度為：%d,梯形高度為：%d,梯形面積為：%d' % (上底,下底,高,面積))"
      ],
      "metadata": {
        "colab": {
          "base_uri": "https://localhost:8080/"
        },
        "id": "YCBW8ioQT8cl",
        "outputId": "983685b2-01a0-4188-ab48-ed6462eb3760"
      },
      "execution_count": 52,
      "outputs": [
        {
          "output_type": "stream",
          "name": "stdout",
          "text": [
            "梯形上底長度為：3,梯形下底長度為：4,梯形高度為：3,梯形面積為：10\n"
          ]
        }
      ]
    },
    {
      "cell_type": "code",
      "source": [
        "print('梯形上底長度為：%d,梯形下底長度為：%d,梯形高度為：%d,梯形面積為：%f' % (上底,下底,高,面積))"
      ],
      "metadata": {
        "colab": {
          "base_uri": "https://localhost:8080/"
        },
        "id": "Ez4RcrpZWtTe",
        "outputId": "9fc7caec-3061-4ba6-e7f8-97eb697d4cb2"
      },
      "execution_count": 53,
      "outputs": [
        {
          "output_type": "stream",
          "name": "stdout",
          "text": [
            "梯形上底長度為：3,梯形下底長度為：4,梯形高度為：3,梯形面積為：10.500000\n"
          ]
        }
      ]
    },
    {
      "cell_type": "code",
      "source": [
        "print('梯形上底長度為：%d,梯形下底長度為：%d,梯形高度為：%d,梯形面積為：%0.1f' % (上底,下底,高,面積))"
      ],
      "metadata": {
        "colab": {
          "base_uri": "https://localhost:8080/"
        },
        "id": "FYZgtg8pW3YG",
        "outputId": "50b127f2-ed73-4eba-ac15-12bdfd17a099"
      },
      "execution_count": 54,
      "outputs": [
        {
          "output_type": "stream",
          "name": "stdout",
          "text": [
            "梯形上底長度為：3,梯形下底長度為：4,梯形高度為：3,梯形面積為：10.5\n"
          ]
        }
      ]
    },
    {
      "cell_type": "code",
      "source": [
        "a = 1.1\n",
        "b = 2.02\n",
        "c = 3.003\n",
        "print('a=%0.1f,b=%0.2f,c=%0.3f' %(a,b,c))"
      ],
      "metadata": {
        "colab": {
          "base_uri": "https://localhost:8080/"
        },
        "id": "8HUk4YG0XAgd",
        "outputId": "137234bf-5b94-44ce-cfcc-e4f2afeacc0b"
      },
      "execution_count": 58,
      "outputs": [
        {
          "output_type": "stream",
          "name": "stdout",
          "text": [
            "a=1.1,b=2.02,c=3.003\n"
          ]
        }
      ]
    },
    {
      "cell_type": "code",
      "source": [
        "height = float(input(\"請輸入您的身高(cm)：\"))\n",
        "weight = float(input(\"請輸入您的體重(kg)：\"))\n",
        "BMI = weight / (height/100)**2\n",
        "print(\"身高 %d 公分,體重 %d 公斤,BMI值為 %.2f\" % (height,weight,BMI))"
      ],
      "metadata": {
        "colab": {
          "base_uri": "https://localhost:8080/"
        },
        "id": "9XnTthkgXNUK",
        "outputId": "e9a6960d-b156-418c-9af7-7ea3362617bb"
      },
      "execution_count": 78,
      "outputs": [
        {
          "output_type": "stream",
          "name": "stdout",
          "text": [
            "請輸入您的身高(cm)：180\n",
            "請輸入您的體重(kg)：80\n",
            "身高 180 公分,體重 80 公斤,BMI值為 24.69\n"
          ]
        }
      ]
    },
    {
      "cell_type": "code",
      "source": [
        "height"
      ],
      "metadata": {
        "colab": {
          "base_uri": "https://localhost:8080/"
        },
        "id": "qHIQZxNBa2ur",
        "outputId": "279a1246-f21a-4359-cdd2-b2293e1225fc"
      },
      "execution_count": 79,
      "outputs": [
        {
          "output_type": "execute_result",
          "data": {
            "text/plain": [
              "180.0"
            ]
          },
          "metadata": {},
          "execution_count": 79
        }
      ]
    },
    {
      "cell_type": "code",
      "source": [
        "1==2"
      ],
      "metadata": {
        "colab": {
          "base_uri": "https://localhost:8080/"
        },
        "id": "qlTMhIOgdVcg",
        "outputId": "c34edee0-348e-44c2-e7d0-423beb086805"
      },
      "execution_count": 80,
      "outputs": [
        {
          "output_type": "execute_result",
          "data": {
            "text/plain": [
              "False"
            ]
          },
          "metadata": {},
          "execution_count": 80
        }
      ]
    },
    {
      "cell_type": "code",
      "source": [
        "3<5"
      ],
      "metadata": {
        "colab": {
          "base_uri": "https://localhost:8080/"
        },
        "id": "RNXSZf8fdi6k",
        "outputId": "fa5ae25f-9bfb-40b7-c044-047cb981e9bf"
      },
      "execution_count": 81,
      "outputs": [
        {
          "output_type": "execute_result",
          "data": {
            "text/plain": [
              "True"
            ]
          },
          "metadata": {},
          "execution_count": 81
        }
      ]
    },
    {
      "cell_type": "code",
      "source": [
        "6>9"
      ],
      "metadata": {
        "colab": {
          "base_uri": "https://localhost:8080/"
        },
        "id": "L4h-W-EXdn6A",
        "outputId": "db6de1c6-6ec4-4726-e137-eb11dd26b305"
      },
      "execution_count": 82,
      "outputs": [
        {
          "output_type": "execute_result",
          "data": {
            "text/plain": [
              "False"
            ]
          },
          "metadata": {},
          "execution_count": 82
        }
      ]
    },
    {
      "cell_type": "code",
      "source": [
        "17>=9"
      ],
      "metadata": {
        "colab": {
          "base_uri": "https://localhost:8080/"
        },
        "id": "CYTpR9QLdr6F",
        "outputId": "b201e5ad-f0cd-4d5b-9c53-1aa1a1589f65"
      },
      "execution_count": 83,
      "outputs": [
        {
          "output_type": "execute_result",
          "data": {
            "text/plain": [
              "True"
            ]
          },
          "metadata": {},
          "execution_count": 83
        }
      ]
    },
    {
      "cell_type": "code",
      "source": [
        "4<=10"
      ],
      "metadata": {
        "colab": {
          "base_uri": "https://localhost:8080/"
        },
        "id": "ZXrhVXi0dwXu",
        "outputId": "eb1b8be1-f13d-431b-ad3e-8c9619b8572e"
      },
      "execution_count": 84,
      "outputs": [
        {
          "output_type": "execute_result",
          "data": {
            "text/plain": [
              "True"
            ]
          },
          "metadata": {},
          "execution_count": 84
        }
      ]
    }
  ]
}